


import pandas as pd

df = pd.read_csv('Resources/client_dataset.csv')

df.head()


# View the column names in the data
df.columns



# Use the describe function to gather some basic statistics

df.describe()


# Use this space to do any additional research
# and familiarize yourself with the data.

df.dtypes


# What three item categories had the most entries?

df['category'].value_counts().head(3)


# For the category with the most entries,
# which subcategory had the most entries?
df.loc[df['category'] == 'consumables', 'subcategory'].value_counts().head(1)



df.head()


# Which five clients had the most entries in the data?

df['client_id'].value_counts().head()


# Store the client ids of those top 5 clients in a list.

client_ids = df['client_id'].value_counts().head().index.tolist()
client_ids


# How many total units (the qty column) did the
# client with the most entries order order?

df.loc[df['client_id'] == client_ids[0],'qty'].sum()





df.head()


# Create a column that calculates the 
# subtotal for each line using the unit_price
# and the qty

df['line_subtotal'] = df['unit_price'] * df['qty']
df[['unit_price','qty','line_subtotal']].head(2)


# Create a column for shipping price.
# Assume a shipping price of $7 per pound
# for orders over 50 pounds and $10 per
# pound for items 50 pounds or under.

#Nico comment: the column 'total_weight' hadn't been created and the instructions didn't say to create one, so I made one

df['total_weight'] = df['unit_weight'] * df['qty']

def sp(row):
    if row['total_weight'] > 50:
        value = row['total_weight'] * 7
    else:
        value = row['total_weight'] * 10

    return value


df['shipping_price'] = df.apply(sp, axis=1)
df[['unit_price','unit_weight','qty','total_weight','shipping_price']].head(2)


round(523.95+312.9 + ((523.95+312.9) * 0.0925),2)


# Create a column for the total price
# using the subtotal and the shipping price
# along with a sales tax of 9.25%
subtotal = df['line_subtotal'] + df['shipping_price']
df['line_price'] = round(subtotal + (subtotal * 0.0925),2)

df[['line_subtotal','shipping_price','line_price']].head(2)



# Create a column for the cost
# of each line using unit cost, qty, and
# shipping price (assume the shipping cost
# is exactly what is charged to the client).

df['line_cost'] = df['unit_cost'] * df['qty'] + df['shipping_price']
df.head(3)


# Create a column for the profit of
# each line using line cost and line price

df['line_profit'] = df['line_price'] - df['line_cost']
df.head(3)





# Check your work using the totals above
print(f"Order 2742071 total: ${df.loc[df['order_id'] == 2742071, 'line_price'].sum():.2f}")
print(f"Order 2173913 total: ${df.loc[df['order_id'] == 2173913, 'line_price'].sum()}")
print(f"Order 6128929 total: ${df.loc[df['order_id'] == 6128929, 'line_price'].sum()}")





# How much did each of the top 5 clients by quantity
# spend? Check your work from Part 1 for client ids.

for i in client_ids:
    print(f"{i}: ${df.loc[df['client_id'] == i,'line_price'].sum():.2f}")


# Create a summary DataFrame showing the totals for the
# for the top 5 clients with the following information:
# total units purchased, total shipping price,
# total revenue, and total profit. Sort by total profit.

top_5 = df.loc[df['client_id'].isin(client_ids)].groupby('client_id')[['qty','shipping_price','line_price','line_cost','line_profit']].sum().reset_index().sort_values(by='line_profit', ascending=False)
top_5


# Format the data and rename the columns
# to names suitable for presentation.
# Currency should be in millions of dollars.
top_5 = top_5.rename(columns={'client_id': 'Client ID', 'qty':'Units','shipping_price':'Shipping','line_price':'Total Revenue','line_cost':'Total Cost','line_profit':'Total Profit'})

top_5['Shipping'] = ['${:.2f}M'.format(x) for x in top_5['Shipping']/1000000]
top_5['Total Revenue'] = ['${:.2f}M'.format(x) for x in top_5['Total Revenue']/1000000]
top_5['Total Cost'] = ['${:.2f}M'.format(x) for x in top_5['Total Cost']/1000000]
top_5['Total Profit'] = ['${:.2f}M'.format(x) for x in top_5['Total Profit']/1000000]

top_5



# Sort the updated data by "Total Profit" form highest to lowest
top_5.sort_values(by='Total Profit',ascending=False)



